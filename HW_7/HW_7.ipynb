{
 "cells": [
  {
   "cell_type": "code",
   "execution_count": 149,
   "metadata": {},
   "outputs": [],
   "source": [
    "import pandas as pd\n",
    "import numpy as np\n",
    "from sklearn.linear_model import Ridge, LinearRegression, LogisticRegression"
   ]
  },
  {
   "cell_type": "code",
   "execution_count": 150,
   "metadata": {},
   "outputs": [],
   "source": [
    "with open('in.dta.txt') as f_0, open('in.csv', 'w') as f_1:\n",
    "    for line in f_0.readlines():\n",
    "        processed_line = line.strip().replace('  -', ' -').replace('   ', ' ')\n",
    "        f_1.write(processed_line + '\\n')"
   ]
  },
  {
   "cell_type": "code",
   "execution_count": 151,
   "metadata": {},
   "outputs": [],
   "source": [
    "with open('out.dta.txt') as f_0, open('out.csv', 'w') as f_1:\n",
    "    for line in f_0.readlines():\n",
    "        processed_line = line.strip().replace('  -', ' -').replace('   ', ' ')\n",
    "        f_1.write(processed_line + '\\n')"
   ]
  },
  {
   "cell_type": "code",
   "execution_count": 152,
   "metadata": {},
   "outputs": [],
   "source": [
    "in_data = pd.read_csv('in.csv', sep=' ', dtype=np.float64, header=None, names=['x1', 'x2', 'y'])"
   ]
  },
  {
   "cell_type": "code",
   "execution_count": 153,
   "metadata": {},
   "outputs": [],
   "source": [
    "out_data = pd.read_csv('out.csv', sep=' ', dtype=np.float64, header=None, names=['x1', 'x2', 'y'])"
   ]
  },
  {
   "cell_type": "code",
   "execution_count": 154,
   "metadata": {},
   "outputs": [],
   "source": [
    "def non_linear_trasformation(data): \n",
    "    X = data[['x1', 'x2']]\n",
    "    X['x1_sq'] = data['x1'] ** 2\n",
    "    X['x2_sq'] = data['x2'] ** 2\n",
    "    X['x1_x2'] = data['x1'] * data['x2']\n",
    "    X['abs(x1-x2)'] = abs(data['x1'] - data['x2'])\n",
    "    X['abs(x1+x2)'] = abs(data['x1'] + data['x2'])\n",
    "    X['ones'] = 1\n",
    "    return X[['ones', 'x1', 'x2', 'x1_sq', 'x2_sq', 'x1_x2', 'abs(x1-x2)', 'abs(x1+x2)']]"
   ]
  },
  {
   "cell_type": "code",
   "execution_count": 155,
   "metadata": {},
   "outputs": [
    {
     "data": {
      "text/html": [
       "<div>\n",
       "<style scoped>\n",
       "    .dataframe tbody tr th:only-of-type {\n",
       "        vertical-align: middle;\n",
       "    }\n",
       "\n",
       "    .dataframe tbody tr th {\n",
       "        vertical-align: top;\n",
       "    }\n",
       "\n",
       "    .dataframe thead th {\n",
       "        text-align: right;\n",
       "    }\n",
       "</style>\n",
       "<table border=\"1\" class=\"dataframe\">\n",
       "  <thead>\n",
       "    <tr style=\"text-align: right;\">\n",
       "      <th></th>\n",
       "      <th>ones</th>\n",
       "      <th>x1</th>\n",
       "      <th>x2</th>\n",
       "      <th>x1_sq</th>\n",
       "      <th>x2_sq</th>\n",
       "      <th>x1_x2</th>\n",
       "      <th>abs(x1-x2)</th>\n",
       "      <th>abs(x1+x2)</th>\n",
       "    </tr>\n",
       "  </thead>\n",
       "  <tbody>\n",
       "    <tr>\n",
       "      <td>0</td>\n",
       "      <td>1</td>\n",
       "      <td>-0.106006</td>\n",
       "      <td>-0.081467</td>\n",
       "      <td>0.011237</td>\n",
       "      <td>0.006637</td>\n",
       "      <td>0.008636</td>\n",
       "      <td>0.024539</td>\n",
       "      <td>0.187473</td>\n",
       "    </tr>\n",
       "    <tr>\n",
       "      <td>1</td>\n",
       "      <td>1</td>\n",
       "      <td>0.177930</td>\n",
       "      <td>-0.345951</td>\n",
       "      <td>0.031659</td>\n",
       "      <td>0.119682</td>\n",
       "      <td>-0.061555</td>\n",
       "      <td>0.523881</td>\n",
       "      <td>0.168022</td>\n",
       "    </tr>\n",
       "    <tr>\n",
       "      <td>2</td>\n",
       "      <td>1</td>\n",
       "      <td>0.102162</td>\n",
       "      <td>0.718258</td>\n",
       "      <td>0.010437</td>\n",
       "      <td>0.515895</td>\n",
       "      <td>0.073378</td>\n",
       "      <td>0.616097</td>\n",
       "      <td>0.820420</td>\n",
       "    </tr>\n",
       "    <tr>\n",
       "      <td>3</td>\n",
       "      <td>1</td>\n",
       "      <td>0.694078</td>\n",
       "      <td>0.623397</td>\n",
       "      <td>0.481745</td>\n",
       "      <td>0.388624</td>\n",
       "      <td>0.432687</td>\n",
       "      <td>0.070681</td>\n",
       "      <td>1.317476</td>\n",
       "    </tr>\n",
       "    <tr>\n",
       "      <td>4</td>\n",
       "      <td>1</td>\n",
       "      <td>0.023541</td>\n",
       "      <td>0.727432</td>\n",
       "      <td>0.000554</td>\n",
       "      <td>0.529158</td>\n",
       "      <td>0.017125</td>\n",
       "      <td>0.703891</td>\n",
       "      <td>0.750973</td>\n",
       "    </tr>\n",
       "    <tr>\n",
       "      <td>...</td>\n",
       "      <td>...</td>\n",
       "      <td>...</td>\n",
       "      <td>...</td>\n",
       "      <td>...</td>\n",
       "      <td>...</td>\n",
       "      <td>...</td>\n",
       "      <td>...</td>\n",
       "      <td>...</td>\n",
       "    </tr>\n",
       "    <tr>\n",
       "      <td>245</td>\n",
       "      <td>1</td>\n",
       "      <td>-0.437767</td>\n",
       "      <td>0.011653</td>\n",
       "      <td>0.191640</td>\n",
       "      <td>0.000136</td>\n",
       "      <td>-0.005101</td>\n",
       "      <td>0.449420</td>\n",
       "      <td>0.426114</td>\n",
       "    </tr>\n",
       "    <tr>\n",
       "      <td>246</td>\n",
       "      <td>1</td>\n",
       "      <td>-0.354830</td>\n",
       "      <td>0.819820</td>\n",
       "      <td>0.125904</td>\n",
       "      <td>0.672105</td>\n",
       "      <td>-0.290897</td>\n",
       "      <td>1.174650</td>\n",
       "      <td>0.464990</td>\n",
       "    </tr>\n",
       "    <tr>\n",
       "      <td>247</td>\n",
       "      <td>1</td>\n",
       "      <td>0.347045</td>\n",
       "      <td>-0.545084</td>\n",
       "      <td>0.120440</td>\n",
       "      <td>0.297116</td>\n",
       "      <td>-0.189168</td>\n",
       "      <td>0.892128</td>\n",
       "      <td>0.198039</td>\n",
       "    </tr>\n",
       "    <tr>\n",
       "      <td>248</td>\n",
       "      <td>1</td>\n",
       "      <td>0.836376</td>\n",
       "      <td>0.343831</td>\n",
       "      <td>0.699525</td>\n",
       "      <td>0.118220</td>\n",
       "      <td>0.287572</td>\n",
       "      <td>0.492545</td>\n",
       "      <td>1.180207</td>\n",
       "    </tr>\n",
       "    <tr>\n",
       "      <td>249</td>\n",
       "      <td>1</td>\n",
       "      <td>-0.713851</td>\n",
       "      <td>-0.640575</td>\n",
       "      <td>0.509583</td>\n",
       "      <td>0.410336</td>\n",
       "      <td>0.457275</td>\n",
       "      <td>0.073276</td>\n",
       "      <td>1.354426</td>\n",
       "    </tr>\n",
       "  </tbody>\n",
       "</table>\n",
       "<p>250 rows × 8 columns</p>\n",
       "</div>"
      ],
      "text/plain": [
       "     ones        x1        x2     x1_sq     x2_sq     x1_x2  abs(x1-x2)  \\\n",
       "0       1 -0.106006 -0.081467  0.011237  0.006637  0.008636    0.024539   \n",
       "1       1  0.177930 -0.345951  0.031659  0.119682 -0.061555    0.523881   \n",
       "2       1  0.102162  0.718258  0.010437  0.515895  0.073378    0.616097   \n",
       "3       1  0.694078  0.623397  0.481745  0.388624  0.432687    0.070681   \n",
       "4       1  0.023541  0.727432  0.000554  0.529158  0.017125    0.703891   \n",
       "..    ...       ...       ...       ...       ...       ...         ...   \n",
       "245     1 -0.437767  0.011653  0.191640  0.000136 -0.005101    0.449420   \n",
       "246     1 -0.354830  0.819820  0.125904  0.672105 -0.290897    1.174650   \n",
       "247     1  0.347045 -0.545084  0.120440  0.297116 -0.189168    0.892128   \n",
       "248     1  0.836376  0.343831  0.699525  0.118220  0.287572    0.492545   \n",
       "249     1 -0.713851 -0.640575  0.509583  0.410336  0.457275    0.073276   \n",
       "\n",
       "     abs(x1+x2)  \n",
       "0      0.187473  \n",
       "1      0.168022  \n",
       "2      0.820420  \n",
       "3      1.317476  \n",
       "4      0.750973  \n",
       "..          ...  \n",
       "245    0.426114  \n",
       "246    0.464990  \n",
       "247    0.198039  \n",
       "248    1.180207  \n",
       "249    1.354426  \n",
       "\n",
       "[250 rows x 8 columns]"
      ]
     },
     "execution_count": 155,
     "metadata": {},
     "output_type": "execute_result"
    }
   ],
   "source": [
    "X_in = non_linear_trasformation(in_data)\n",
    "Y_in = in_data['y']\n",
    "X_out = non_linear_trasformation(out_data)\n",
    "Y_out = out_data['y']\n",
    "X_out"
   ]
  },
  {
   "cell_type": "code",
   "execution_count": 156,
   "metadata": {},
   "outputs": [
    {
     "name": "stderr",
     "output_type": "stream",
     "text": [
      "/home/dinaz/anaconda3/lib/python3.7/site-packages/sklearn/linear_model/logistic.py:432: FutureWarning: Default solver will be changed to 'lbfgs' in 0.22. Specify a solver to silence this warning.\n",
      "  FutureWarning)\n"
     ]
    }
   ],
   "source": [
    "model_log = LogisticRegression().fit(X_in, Y_in)"
   ]
  },
  {
   "cell_type": "code",
   "execution_count": 157,
   "metadata": {},
   "outputs": [
    {
     "data": {
      "text/plain": [
       "array([ 1.,  1., -1.,  1., -1.,  1., -1.,  1.,  1., -1., -1.,  1.,  1.,\n",
       "       -1., -1.,  1., -1.,  1., -1.,  1., -1., -1.,  1.,  1., -1., -1.,\n",
       "        1.,  1.,  1., -1.,  1., -1.,  1., -1.,  1.])"
      ]
     },
     "execution_count": 157,
     "metadata": {},
     "output_type": "execute_result"
    }
   ],
   "source": [
    "model_log.predict(X_in)"
   ]
  },
  {
   "cell_type": "code",
   "execution_count": 158,
   "metadata": {},
   "outputs": [
    {
     "data": {
      "text/plain": [
       "0.892"
      ]
     },
     "execution_count": 158,
     "metadata": {},
     "output_type": "execute_result"
    }
   ],
   "source": [
    "model_log.score(X_out, Y_out)"
   ]
  },
  {
   "cell_type": "code",
   "execution_count": 159,
   "metadata": {},
   "outputs": [
    {
     "name": "stderr",
     "output_type": "stream",
     "text": [
      "/home/dinaz/anaconda3/lib/python3.7/site-packages/sklearn/linear_model/logistic.py:432: FutureWarning: Default solver will be changed to 'lbfgs' in 0.22. Specify a solver to silence this warning.\n",
      "  FutureWarning)\n"
     ]
    }
   ],
   "source": [
    "model_log = LogisticRegression(C=0.001).fit(X_in, Y_in)"
   ]
  },
  {
   "cell_type": "code",
   "execution_count": 160,
   "metadata": {},
   "outputs": [
    {
     "data": {
      "text/plain": [
       "array([1., 1., 1., 1., 1., 1., 1., 1., 1., 1., 1., 1., 1., 1., 1., 1., 1.,\n",
       "       1., 1., 1., 1., 1., 1., 1., 1., 1., 1., 1., 1., 1., 1., 1., 1., 1.,\n",
       "       1.])"
      ]
     },
     "execution_count": 160,
     "metadata": {},
     "output_type": "execute_result"
    }
   ],
   "source": [
    "model_log.predict(X_in)"
   ]
  },
  {
   "cell_type": "code",
   "execution_count": 161,
   "metadata": {},
   "outputs": [
    {
     "data": {
      "text/plain": [
       "0.528"
      ]
     },
     "execution_count": 161,
     "metadata": {},
     "output_type": "execute_result"
    }
   ],
   "source": [
    "model_log.score(X_out, Y_out)"
   ]
  },
  {
   "cell_type": "code",
   "execution_count": null,
   "metadata": {},
   "outputs": [],
   "source": []
  }
 ],
 "metadata": {
  "kernelspec": {
   "display_name": "Python 3",
   "language": "python",
   "name": "python3"
  },
  "language_info": {
   "codemirror_mode": {
    "name": "ipython",
    "version": 3
   },
   "file_extension": ".py",
   "mimetype": "text/x-python",
   "name": "python",
   "nbconvert_exporter": "python",
   "pygments_lexer": "ipython3",
   "version": "3.7.4"
  }
 },
 "nbformat": 4,
 "nbformat_minor": 2
}
