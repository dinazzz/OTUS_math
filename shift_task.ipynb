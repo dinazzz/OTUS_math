{
 "cells": [
  {
   "cell_type": "markdown",
   "metadata": {},
   "source": [
    "# Гипотеза о равенстве вероятностей успеха"
   ]
  },
  {
   "cell_type": "code",
   "execution_count": 40,
   "metadata": {},
   "outputs": [],
   "source": [
    "import math\n",
    "from scipy.stats import norm\n",
    "from itertools import groupby"
   ]
  },
  {
   "cell_type": "markdown",
   "metadata": {},
   "source": [
    "## Ввод исходных данных"
   ]
  },
  {
   "cell_type": "code",
   "execution_count": 71,
   "metadata": {},
   "outputs": [],
   "source": [
    "X = [102.4, 100.0, 67.6, 65.9, 64.7, 39.6, 31.2] #первая выборка\n",
    "#X = list(range(1, 11))"
   ]
  },
  {
   "cell_type": "code",
   "execution_count": 83,
   "metadata": {},
   "outputs": [],
   "source": [
    "Y = [48.1, 45.5, 41.7, 35.4, 29.1, 18.9, 58.3, 68.8, 71.3, 94.3] #вторая выборка\n",
    "#Y = list(range(2, 12))"
   ]
  },
  {
   "cell_type": "code",
   "execution_count": 84,
   "metadata": {},
   "outputs": [
    {
     "name": "stdout",
     "output_type": "stream",
     "text": [
      "0.05\n"
     ]
    }
   ],
   "source": [
    "while True:\n",
    "    alpha = float(input().replace(',', '.')) #уровень значимости\n",
    "    if 0 < alpha < 1:\n",
    "        break\n",
    "    else:\n",
    "        print('Значение alpha должно находиться в диапазоне 0..1')"
   ]
  },
  {
   "cell_type": "code",
   "execution_count": 85,
   "metadata": {},
   "outputs": [
    {
     "name": "stdout",
     "output_type": "stream",
     "text": [
      "Альтернативная гипотеза:\n",
      "среднее для второй выборки значимо больше, чем для первой - 0\n",
      "среднее для второй выборки значимо меньше, чем для первой - 1\n",
      "средние значения значимо различаются - 2\n",
      "\n",
      "2\n"
     ]
    }
   ],
   "source": [
    "H_a = int(input('''Альтернативная гипотеза:\n",
    "среднее для второй выборки значимо больше, чем для первой - 0\n",
    "среднее для второй выборки значимо меньше, чем для первой - 1\n",
    "средние значения значимо различаются - 2\n",
    "\n",
    "'''))"
   ]
  },
  {
   "cell_type": "markdown",
   "metadata": {},
   "source": [
    "## Расчет"
   ]
  },
  {
   "cell_type": "code",
   "execution_count": 97,
   "metadata": {},
   "outputs": [],
   "source": [
    "united_labled_sample = [(x, 'x') for x in X] + [(y, 'y') for y in Y]\n",
    "united_labled_sample.sort(key=lambda x: x[0])"
   ]
  },
  {
   "cell_type": "code",
   "execution_count": 98,
   "metadata": {},
   "outputs": [
    {
     "data": {
      "text/plain": [
       "55.0"
      ]
     },
     "execution_count": 98,
     "metadata": {},
     "output_type": "execute_result"
    }
   ],
   "source": [
    "W = 0\n",
    "i = 1\n",
    "for k, v in groupby(united_labled_sample, key=lambda x: x[0]):\n",
    "    v = list(v)\n",
    "    r = sum(range(i, i + len(v))) / len(v)\n",
    "    for e in v:\n",
    "        if e[1] == 'y': \n",
    "            W += r\n",
    "    i += len(v)\n",
    "W"
   ]
  },
  {
   "cell_type": "code",
   "execution_count": 99,
   "metadata": {},
   "outputs": [],
   "source": [
    "M_W = len(Y) / 2 * (len(X) + len(Y) + 1)\n",
    "D_W = len(X) * len(Y) / 12 * (len(X) + len(Y) + 1)"
   ]
  },
  {
   "cell_type": "code",
   "execution_count": 100,
   "metadata": {},
   "outputs": [],
   "source": [
    "W_ = (W - M_W) / math.sqrt(D_W)"
   ]
  },
  {
   "cell_type": "code",
   "execution_count": 101,
   "metadata": {},
   "outputs": [],
   "source": [
    "result = None\n",
    "t_a = None\n",
    "p_value = None\n",
    "if H_a == 0:\n",
    "    t_a =  norm.ppf(1 - alpha)\n",
    "    result = (W_ < t_a)\n",
    "    p_value = 1 - norm.cdf(W_)\n",
    "    print(result)\n",
    "elif H_a == 1:\n",
    "    t_a = norm.ppf(alpha)\n",
    "    result = (W_ > t_a)\n",
    "    p_value = norm.cdf(W_)\n",
    "elif H_a == 2:\n",
    "    t_a = norm.ppf(alpha / 2)\n",
    "    p_value = min((2*norm.cdf(W_), 2 - 2 * norm.cdf(W_)))\n",
    "    result = (t_a < W_ < - t_a)"
   ]
  },
  {
   "cell_type": "code",
   "execution_count": 102,
   "metadata": {},
   "outputs": [
    {
     "name": "stdout",
     "output_type": "stream",
     "text": [
      "Основная гипотеза отвергается в пользу альтернативной с уровнем значимости 0.05\n",
      "W_ = -3.779644730092272\n",
      "Квантиль уровня 0.025 = -1.9599639845400545\n",
      "p-value 0.00015705228423075119\n"
     ]
    }
   ],
   "source": [
    "if result:\n",
    "    print(f'Основная гипотеза принимается с уровнем значимости {alpha}')\n",
    "else:\n",
    "    print(f'Основная гипотеза отвергается в пользу альтернативной с уровнем значимости {alpha}')\n",
    "print(f'W_ = {W_}')\n",
    "print(f'Квантиль уровня {alpha if H_a !=2 else alpha / 2} = {t_a}')\n",
    "print(f'p-value {p_value}')   "
   ]
  },
  {
   "cell_type": "code",
   "execution_count": null,
   "metadata": {},
   "outputs": [],
   "source": []
  }
 ],
 "metadata": {
  "kernelspec": {
   "display_name": "Python 3",
   "language": "python",
   "name": "python3"
  },
  "language_info": {
   "codemirror_mode": {
    "name": "ipython",
    "version": 3
   },
   "file_extension": ".py",
   "mimetype": "text/x-python",
   "name": "python",
   "nbconvert_exporter": "python",
   "pygments_lexer": "ipython3",
   "version": "3.7.1"
  }
 },
 "nbformat": 4,
 "nbformat_minor": 2
}
