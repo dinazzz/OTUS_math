{
 "cells": [
  {
   "cell_type": "markdown",
   "metadata": {},
   "source": [
    "# Гипотеза о равенстве вероятностей успеха"
   ]
  },
  {
   "cell_type": "code",
   "execution_count": 46,
   "metadata": {},
   "outputs": [],
   "source": [
    "import math\n",
    "from scipy.stats import norm"
   ]
  },
  {
   "cell_type": "markdown",
   "metadata": {},
   "source": [
    "## Ввод исходных данных"
   ]
  },
  {
   "cell_type": "code",
   "execution_count": 62,
   "metadata": {},
   "outputs": [
    {
     "name": "stdout",
     "output_type": "stream",
     "text": [
      "175\n"
     ]
    }
   ],
   "source": [
    "a = int(input()) #число опытов в первой серии экспериментов"
   ]
  },
  {
   "cell_type": "code",
   "execution_count": 63,
   "metadata": {},
   "outputs": [
    {
     "name": "stdout",
     "output_type": "stream",
     "text": [
      "3\n"
     ]
    }
   ],
   "source": [
    "a_sucsess = int(input()) #число \"успехов\" в первой серии экспериментов"
   ]
  },
  {
   "cell_type": "code",
   "execution_count": 64,
   "metadata": {},
   "outputs": [
    {
     "name": "stdout",
     "output_type": "stream",
     "text": [
      "200\n"
     ]
    }
   ],
   "source": [
    "b = int(input()) #число опытов во второй серии экспериментов)"
   ]
  },
  {
   "cell_type": "code",
   "execution_count": 65,
   "metadata": {},
   "outputs": [
    {
     "name": "stdout",
     "output_type": "stream",
     "text": [
      "32\n"
     ]
    }
   ],
   "source": [
    "b_sucsess = int(input()) #число \"успехов\" во второй серии экспериментов)"
   ]
  },
  {
   "cell_type": "code",
   "execution_count": 66,
   "metadata": {},
   "outputs": [
    {
     "name": "stdout",
     "output_type": "stream",
     "text": [
      "0.05\n"
     ]
    }
   ],
   "source": [
    "while True:\n",
    "    alpha = float(input().replace(',', '.')) #уровень значимости\n",
    "    if 0 < alpha < 1:\n",
    "        break\n",
    "    else:\n",
    "        print('Значение alpha должно находиться в диапазоне 0..1')"
   ]
  },
  {
   "cell_type": "code",
   "execution_count": 67,
   "metadata": {},
   "outputs": [
    {
     "name": "stdout",
     "output_type": "stream",
     "text": [
      "Альтернативная гипотеза:\n",
      "вероятность успеха в серии A больше вероятности в серии B - 0\n",
      "вероятность успеха в серии A меньше вероятности в серии B - 1\n",
      "вероятности не равны - 2\n",
      "\n",
      "1\n"
     ]
    }
   ],
   "source": [
    "H_a = int(input('''Альтернативная гипотеза:\n",
    "вероятность успеха в серии A больше вероятности в серии B - 0\n",
    "вероятность успеха в серии A меньше вероятности в серии B - 1\n",
    "вероятности не равны - 2\n",
    "\n",
    "'''))"
   ]
  },
  {
   "cell_type": "markdown",
   "metadata": {},
   "source": [
    "## Расчет"
   ]
  },
  {
   "cell_type": "code",
   "execution_count": 68,
   "metadata": {},
   "outputs": [],
   "source": [
    "T = (a_sucsess / a - b_sucsess / b) / math.sqrt((a_sucsess + b_sucsess) / (a + b) * (1 - (a_sucsess + b_sucsess) / (a + b)) * (1 / a + 1 / b))"
   ]
  },
  {
   "cell_type": "code",
   "execution_count": 69,
   "metadata": {},
   "outputs": [],
   "source": [
    "result = None\n",
    "t_a = None\n",
    "p_value = None\n",
    "if H_a == 0:\n",
    "    t_a =  norm.ppf(1 - alpha)\n",
    "    result = (T < t_a)\n",
    "    p_value = 1 - norm.cdf(T)\n",
    "    print(result)\n",
    "elif H_a == 1:\n",
    "    t_a = norm.ppf(alpha)\n",
    "    p_value = norm.cdf(T)\n",
    "    result = (T > t_a)\n",
    "elif H_a == 2:\n",
    "    t_a = norm.ppf(alpha / 2)\n",
    "    p_value = min((2*norm.cdf(T), 2 - 2 * norm.cdf(T)))\n",
    "    result = (t_a < T < - t_a)"
   ]
  },
  {
   "cell_type": "code",
   "execution_count": 71,
   "metadata": {},
   "outputs": [
    {
     "name": "stdout",
     "output_type": "stream",
     "text": [
      "Основная гипотеза отвергается в пользу альтернативной с уровнем занчимости 0.05\n",
      "T = -4.74436545825051\n",
      "Квантиль уровня 0.05 = -1.6448536269514729\n",
      "p-value 1.045804697525518e-06\n"
     ]
    }
   ],
   "source": [
    "if result:\n",
    "    print(f'Основная гипотеза принимается с уровнем занчимости {alpha}')\n",
    "else:\n",
    "    print(f'Основная гипотеза отвергается в пользу альтернативной с уровнем занчимости {alpha}')\n",
    "print(f'T = {T}')\n",
    "print(f'Квантиль уровня {alpha if H_a !=2 else alpha / 2} = {t_a}')\n",
    "print(f'p-value {p_value}')   "
   ]
  },
  {
   "cell_type": "code",
   "execution_count": null,
   "metadata": {},
   "outputs": [],
   "source": []
  }
 ],
 "metadata": {
  "kernelspec": {
   "display_name": "Python 3",
   "language": "python",
   "name": "python3"
  },
  "language_info": {
   "codemirror_mode": {
    "name": "ipython",
    "version": 3
   },
   "file_extension": ".py",
   "mimetype": "text/x-python",
   "name": "python",
   "nbconvert_exporter": "python",
   "pygments_lexer": "ipython3",
   "version": "3.7.1"
  }
 },
 "nbformat": 4,
 "nbformat_minor": 2
}
